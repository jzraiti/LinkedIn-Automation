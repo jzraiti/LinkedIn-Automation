{
 "cells": [
  {
   "cell_type": "code",
   "execution_count": null,
   "metadata": {},
   "outputs": [],
   "source": [
    "from selenium import webdriver\n",
    "from selenium.webdriver.support.ui import WebDriverWait\n",
    "from selenium.webdriver.common.by import By\n",
    "from selenium.webdriver.support import expected_conditions as EC\n",
    "\n",
    "import pyautogui as pag\n",
    "import time"
   ]
  },
  {
   "cell_type": "code",
   "execution_count": null,
   "metadata": {},
   "outputs": [],
   "source": [
    "def main():\n",
    "    url =  \"http://linkedin.com/\"\n",
    "    network_url =  \"http://linkedin.com/mynetwork/\"\n",
    "    driver = webdriver.Chrome()\n",
    "    start_bot(driver,url,network_url)\n"
   ]
  },
  {
   "cell_type": "code",
   "execution_count": 17,
   "metadata": {},
   "outputs": [
    {
     "name": "stdout",
     "output_type": "stream",
     "text": [
      "[<selenium.webdriver.remote.webelement.WebElement (session=\"724abec4afb6d8344215957422a01a30\", element=\"19BB9C4D59A1A4B822EC172DA83C1F20_element_4672\")>, <selenium.webdriver.remote.webelement.WebElement (session=\"724abec4afb6d8344215957422a01a30\", element=\"19BB9C4D59A1A4B822EC172DA83C1F20_element_4674\")>, <selenium.webdriver.remote.webelement.WebElement (session=\"724abec4afb6d8344215957422a01a30\", element=\"19BB9C4D59A1A4B822EC172DA83C1F20_element_4676\")>, <selenium.webdriver.remote.webelement.WebElement (session=\"724abec4afb6d8344215957422a01a30\", element=\"19BB9C4D59A1A4B822EC172DA83C1F20_element_4661\")>, <selenium.webdriver.remote.webelement.WebElement (session=\"724abec4afb6d8344215957422a01a30\", element=\"19BB9C4D59A1A4B822EC172DA83C1F20_element_4715\")>, <selenium.webdriver.remote.webelement.WebElement (session=\"724abec4afb6d8344215957422a01a30\", element=\"19BB9C4D59A1A4B822EC172DA83C1F20_element_4718\")>, <selenium.webdriver.remote.webelement.WebElement (session=\"724abec4afb6d8344215957422a01a30\", element=\"19BB9C4D59A1A4B822EC172DA83C1F20_element_5468\")>, <selenium.webdriver.remote.webelement.WebElement (session=\"724abec4afb6d8344215957422a01a30\", element=\"19BB9C4D59A1A4B822EC172DA83C1F20_element_5334\")>, <selenium.webdriver.remote.webelement.WebElement (session=\"724abec4afb6d8344215957422a01a30\", element=\"19BB9C4D59A1A4B822EC172DA83C1F20_element_5344\")>, <selenium.webdriver.remote.webelement.WebElement (session=\"724abec4afb6d8344215957422a01a30\", element=\"19BB9C4D59A1A4B822EC172DA83C1F20_element_5348\")>, <selenium.webdriver.remote.webelement.WebElement (session=\"724abec4afb6d8344215957422a01a30\", element=\"19BB9C4D59A1A4B822EC172DA83C1F20_element_5351\")>, <selenium.webdriver.remote.webelement.WebElement (session=\"724abec4afb6d8344215957422a01a30\", element=\"19BB9C4D59A1A4B822EC172DA83C1F20_element_5702\")>, <selenium.webdriver.remote.webelement.WebElement (session=\"724abec4afb6d8344215957422a01a30\", element=\"19BB9C4D59A1A4B822EC172DA83C1F20_element_5707\")>, <selenium.webdriver.remote.webelement.WebElement (session=\"724abec4afb6d8344215957422a01a30\", element=\"19BB9C4D59A1A4B822EC172DA83C1F20_element_5718\")>, <selenium.webdriver.remote.webelement.WebElement (session=\"724abec4afb6d8344215957422a01a30\", element=\"19BB9C4D59A1A4B822EC172DA83C1F20_element_5722\")>, <selenium.webdriver.remote.webelement.WebElement (session=\"724abec4afb6d8344215957422a01a30\", element=\"19BB9C4D59A1A4B822EC172DA83C1F20_element_5732\")>, <selenium.webdriver.remote.webelement.WebElement (session=\"724abec4afb6d8344215957422a01a30\", element=\"19BB9C4D59A1A4B822EC172DA83C1F20_element_5736\")>, <selenium.webdriver.remote.webelement.WebElement (session=\"724abec4afb6d8344215957422a01a30\", element=\"19BB9C4D59A1A4B822EC172DA83C1F20_element_5747\")>, <selenium.webdriver.remote.webelement.WebElement (session=\"724abec4afb6d8344215957422a01a30\", element=\"19BB9C4D59A1A4B822EC172DA83C1F20_element_5751\")>, <selenium.webdriver.remote.webelement.WebElement (session=\"724abec4afb6d8344215957422a01a30\", element=\"19BB9C4D59A1A4B822EC172DA83C1F20_element_5762\")>, <selenium.webdriver.remote.webelement.WebElement (session=\"724abec4afb6d8344215957422a01a30\", element=\"19BB9C4D59A1A4B822EC172DA83C1F20_element_5766\")>, <selenium.webdriver.remote.webelement.WebElement (session=\"724abec4afb6d8344215957422a01a30\", element=\"19BB9C4D59A1A4B822EC172DA83C1F20_element_5781\")>, <selenium.webdriver.remote.webelement.WebElement (session=\"724abec4afb6d8344215957422a01a30\", element=\"19BB9C4D59A1A4B822EC172DA83C1F20_element_5785\")>, <selenium.webdriver.remote.webelement.WebElement (session=\"724abec4afb6d8344215957422a01a30\", element=\"19BB9C4D59A1A4B822EC172DA83C1F20_element_5795\")>, <selenium.webdriver.remote.webelement.WebElement (session=\"724abec4afb6d8344215957422a01a30\", element=\"19BB9C4D59A1A4B822EC172DA83C1F20_element_5799\")>, <selenium.webdriver.remote.webelement.WebElement (session=\"724abec4afb6d8344215957422a01a30\", element=\"19BB9C4D59A1A4B822EC172DA83C1F20_element_5809\")>, <selenium.webdriver.remote.webelement.WebElement (session=\"724abec4afb6d8344215957422a01a30\", element=\"19BB9C4D59A1A4B822EC172DA83C1F20_element_5813\")>, <selenium.webdriver.remote.webelement.WebElement (session=\"724abec4afb6d8344215957422a01a30\", element=\"19BB9C4D59A1A4B822EC172DA83C1F20_element_5823\")>, <selenium.webdriver.remote.webelement.WebElement (session=\"724abec4afb6d8344215957422a01a30\", element=\"19BB9C4D59A1A4B822EC172DA83C1F20_element_5827\")>, <selenium.webdriver.remote.webelement.WebElement (session=\"724abec4afb6d8344215957422a01a30\", element=\"19BB9C4D59A1A4B822EC172DA83C1F20_element_5832\")>, <selenium.webdriver.remote.webelement.WebElement (session=\"724abec4afb6d8344215957422a01a30\", element=\"19BB9C4D59A1A4B822EC172DA83C1F20_element_5846\")>, <selenium.webdriver.remote.webelement.WebElement (session=\"724abec4afb6d8344215957422a01a30\", element=\"19BB9C4D59A1A4B822EC172DA83C1F20_element_5850\")>, <selenium.webdriver.remote.webelement.WebElement (session=\"724abec4afb6d8344215957422a01a30\", element=\"19BB9C4D59A1A4B822EC172DA83C1F20_element_5866\")>, <selenium.webdriver.remote.webelement.WebElement (session=\"724abec4afb6d8344215957422a01a30\", element=\"19BB9C4D59A1A4B822EC172DA83C1F20_element_5870\")>, <selenium.webdriver.remote.webelement.WebElement (session=\"724abec4afb6d8344215957422a01a30\", element=\"19BB9C4D59A1A4B822EC172DA83C1F20_element_5885\")>, <selenium.webdriver.remote.webelement.WebElement (session=\"724abec4afb6d8344215957422a01a30\", element=\"19BB9C4D59A1A4B822EC172DA83C1F20_element_5889\")>, <selenium.webdriver.remote.webelement.WebElement (session=\"724abec4afb6d8344215957422a01a30\", element=\"19BB9C4D59A1A4B822EC172DA83C1F20_element_5901\")>, <selenium.webdriver.remote.webelement.WebElement (session=\"724abec4afb6d8344215957422a01a30\", element=\"19BB9C4D59A1A4B822EC172DA83C1F20_element_5905\")>, <selenium.webdriver.remote.webelement.WebElement (session=\"724abec4afb6d8344215957422a01a30\", element=\"19BB9C4D59A1A4B822EC172DA83C1F20_element_5915\")>, <selenium.webdriver.remote.webelement.WebElement (session=\"724abec4afb6d8344215957422a01a30\", element=\"19BB9C4D59A1A4B822EC172DA83C1F20_element_5919\")>, <selenium.webdriver.remote.webelement.WebElement (session=\"724abec4afb6d8344215957422a01a30\", element=\"19BB9C4D59A1A4B822EC172DA83C1F20_element_5931\")>, <selenium.webdriver.remote.webelement.WebElement (session=\"724abec4afb6d8344215957422a01a30\", element=\"19BB9C4D59A1A4B822EC172DA83C1F20_element_5933\")>, <selenium.webdriver.remote.webelement.WebElement (session=\"724abec4afb6d8344215957422a01a30\", element=\"19BB9C4D59A1A4B822EC172DA83C1F20_element_4847\")>, <selenium.webdriver.remote.webelement.WebElement (session=\"724abec4afb6d8344215957422a01a30\", element=\"19BB9C4D59A1A4B822EC172DA83C1F20_element_4851\")>, <selenium.webdriver.remote.webelement.WebElement (session=\"724abec4afb6d8344215957422a01a30\", element=\"19BB9C4D59A1A4B822EC172DA83C1F20_element_4853\")>, <selenium.webdriver.remote.webelement.WebElement (session=\"724abec4afb6d8344215957422a01a30\", element=\"19BB9C4D59A1A4B822EC172DA83C1F20_element_4855\")>, <selenium.webdriver.remote.webelement.WebElement (session=\"724abec4afb6d8344215957422a01a30\", element=\"19BB9C4D59A1A4B822EC172DA83C1F20_element_5361\")>, <selenium.webdriver.remote.webelement.WebElement (session=\"724abec4afb6d8344215957422a01a30\", element=\"19BB9C4D59A1A4B822EC172DA83C1F20_element_5365\")>, <selenium.webdriver.remote.webelement.WebElement (session=\"724abec4afb6d8344215957422a01a30\", element=\"19BB9C4D59A1A4B822EC172DA83C1F20_element_5367\")>, <selenium.webdriver.remote.webelement.WebElement (session=\"724abec4afb6d8344215957422a01a30\", element=\"19BB9C4D59A1A4B822EC172DA83C1F20_element_6125\")>, <selenium.webdriver.remote.webelement.WebElement (session=\"724abec4afb6d8344215957422a01a30\", element=\"19BB9C4D59A1A4B822EC172DA83C1F20_element_6151\")>, <selenium.webdriver.remote.webelement.WebElement (session=\"724abec4afb6d8344215957422a01a30\", element=\"19BB9C4D59A1A4B822EC172DA83C1F20_element_6177\")>, <selenium.webdriver.remote.webelement.WebElement (session=\"724abec4afb6d8344215957422a01a30\", element=\"19BB9C4D59A1A4B822EC172DA83C1F20_element_6203\")>, <selenium.webdriver.remote.webelement.WebElement (session=\"724abec4afb6d8344215957422a01a30\", element=\"19BB9C4D59A1A4B822EC172DA83C1F20_element_6228\")>, <selenium.webdriver.remote.webelement.WebElement (session=\"724abec4afb6d8344215957422a01a30\", element=\"19BB9C4D59A1A4B822EC172DA83C1F20_element_6253\")>, <selenium.webdriver.remote.webelement.WebElement (session=\"724abec4afb6d8344215957422a01a30\", element=\"19BB9C4D59A1A4B822EC172DA83C1F20_element_6278\")>, <selenium.webdriver.remote.webelement.WebElement (session=\"724abec4afb6d8344215957422a01a30\", element=\"19BB9C4D59A1A4B822EC172DA83C1F20_element_6303\")>, <selenium.webdriver.remote.webelement.WebElement (session=\"724abec4afb6d8344215957422a01a30\", element=\"19BB9C4D59A1A4B822EC172DA83C1F20_element_6462\")>, <selenium.webdriver.remote.webelement.WebElement (session=\"724abec4afb6d8344215957422a01a30\", element=\"19BB9C4D59A1A4B822EC172DA83C1F20_element_6487\")>, <selenium.webdriver.remote.webelement.WebElement (session=\"724abec4afb6d8344215957422a01a30\", element=\"19BB9C4D59A1A4B822EC172DA83C1F20_element_6512\")>, <selenium.webdriver.remote.webelement.WebElement (session=\"724abec4afb6d8344215957422a01a30\", element=\"19BB9C4D59A1A4B822EC172DA83C1F20_element_6537\")>, <selenium.webdriver.remote.webelement.WebElement (session=\"724abec4afb6d8344215957422a01a30\", element=\"19BB9C4D59A1A4B822EC172DA83C1F20_element_6562\")>, <selenium.webdriver.remote.webelement.WebElement (session=\"724abec4afb6d8344215957422a01a30\", element=\"19BB9C4D59A1A4B822EC172DA83C1F20_element_6587\")>, <selenium.webdriver.remote.webelement.WebElement (session=\"724abec4afb6d8344215957422a01a30\", element=\"19BB9C4D59A1A4B822EC172DA83C1F20_element_6612\")>]\n",
      "Found button\n",
      "Found button\n",
      "Found button\n",
      "Found button\n",
      "Found button\n",
      "Found button\n",
      "Found button\n",
      "Found button\n",
      "Clicking button\n",
      "Clicking button\n",
      "Clicking button\n",
      "Clicking button\n",
      "Clicking button\n",
      "Clicking button\n",
      "Clicking button\n",
      "Clicking button\n",
      "Done !\n"
     ]
    }
   ],
   "source": [
    "def login_to_linkedin(driver):\n",
    "    with open('secrets.txt', 'r') as file:\n",
    "        lines = file.readlines()\n",
    "        username_string = lines[0].strip()\n",
    "        password_string = lines[1].strip()\n",
    "        print(f\"Username: {username_string}\")\n",
    "        print(f\"Password: {password_string}\")\n",
    "    username = driver.find_element(\"name\",\"session_key\")\n",
    "    username.send_keys(username_string)\n",
    "    password = driver.find_element(\"name\",\"session_password\")\n",
    "    password.send_keys(password_string)\n",
    "    button = \"\"\"//*[@id=\"main-content\"]/section[1]/div/div/form/div[2]/button\"\"\"\n",
    "    driver.find_element(By.XPATH,button).click()\n",
    "\n",
    "def  goto_network_page(driver,network_url):\n",
    "  driver.get(network_url)\n",
    "\n",
    "def scroll_down(driver):\n",
    "    \"\"\"A method for scrolling the page.\"\"\"\n",
    "\n",
    "    # Get scroll height.\n",
    "    last_height = driver.execute_script(\"return document.body.scrollHeight\")\n",
    "\n",
    "    for i in range(0,3):\n",
    "\n",
    "        # Scroll down to the bottom.\n",
    "        driver.execute_script(\"window.scrollTo(0, document.body.scrollHeight);\")\n",
    "\n",
    "        # Wait to load the page.\n",
    "        time.sleep(2)\n",
    "\n",
    "        # Calculate new scroll height and compare with last scroll height.\n",
    "        new_height = driver.execute_script(\"return document.body.scrollHeight\")\n",
    "\n",
    "        if new_height == last_height:\n",
    "\n",
    "            break\n",
    "\n",
    "        last_height = new_height\n",
    "\n",
    "def send_requests_to_users(driver):\n",
    "    time.sleep(5) # Sleep for 15 seconds - make sure window loads all the way\n",
    "\n",
    "    #scroll_down(driver)\n",
    "\n",
    "    all_buttons = driver.find_elements(By.TAG_NAME,\"button\")\n",
    "\n",
    "    # print complete element\n",
    "    print(all_buttons)\n",
    "    #for button in connect_buttons:\n",
    "    #    button.click()\n",
    "    all_connect_buttons = []\n",
    "    for button in all_buttons:\n",
    "        if button.accessible_name == r\"Invite {:member} to connect\":\n",
    "            print(\"Found button\")\n",
    "            all_connect_buttons.append(button)\n",
    "            #pag.click(441, 666)\n",
    "\n",
    "\n",
    "    for connect_button in all_connect_buttons:\n",
    "        print(\"Clicking button\")\n",
    "        connect_button.click()\n",
    "\n",
    "\n",
    "    print(\"Done !\")\n",
    "\n",
    "def  take_a_screenshot(driver):\n",
    "  loc_time = time.localtime()\n",
    "  time_string = time.strftime(\"%m/%d/%Y\", loc_time)\n",
    "  driver.save_screenshot(time_string+\"_screenshot.png\")\n",
    "\n",
    "def  start_bot(driver,url,network_url):\n",
    "  driver.get(url)\n",
    "  login_to_linkedin(driver)\n",
    "  goto_network_page(driver,network_url)\n",
    "  send_requests_to_users(driver)\n",
    "\n",
    "\n",
    "\n",
    "\n",
    "\n",
    "main()\n"
   ]
  },
  {
   "cell_type": "code",
   "execution_count": null,
   "metadata": {},
   "outputs": [],
   "source": [
    "driver.close()"
   ]
  },
  {
   "cell_type": "code",
   "execution_count": null,
   "metadata": {},
   "outputs": [],
   "source": []
  }
 ],
 "metadata": {
  "kernelspec": {
   "display_name": "base",
   "language": "python",
   "name": "python3"
  },
  "language_info": {
   "codemirror_mode": {
    "name": "ipython",
    "version": 3
   },
   "file_extension": ".py",
   "mimetype": "text/x-python",
   "name": "python",
   "nbconvert_exporter": "python",
   "pygments_lexer": "ipython3",
   "version": "3.12.1"
  }
 },
 "nbformat": 4,
 "nbformat_minor": 2
}
